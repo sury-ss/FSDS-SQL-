{
 "cells": [
  {
   "cell_type": "markdown",
   "id": "088f9803",
   "metadata": {},
   "source": [
    "Q-17.  Write an SQL query to show the top n (say 10) records of a table."
   ]
  },
  {
   "cell_type": "markdown",
   "id": "4033c724",
   "metadata": {},
   "source": [
    "SELECT * FROM WORKER\n",
    "LIMIT n"
   ]
  },
  {
   "cell_type": "markdown",
   "id": "69d897eb",
   "metadata": {},
   "source": [
    "Q-18. Write an SQL query to determine the nth (say n=5) highest salary from a table."
   ]
  },
  {
   "cell_type": "markdown",
   "id": "549af910",
   "metadata": {},
   "source": [
    "SELECT SALARY FROM\n",
    "(SELECT SALARY,RANK()OVER(ORDER BY SALARY DESC) Rank FROM WORKER)R\n",
    "WHERE Rank=n"
   ]
  }
 ],
 "metadata": {
  "kernelspec": {
   "display_name": "Python 3 (ipykernel)",
   "language": "python",
   "name": "python3"
  },
  "language_info": {
   "codemirror_mode": {
    "name": "ipython",
    "version": 3
   },
   "file_extension": ".py",
   "mimetype": "text/x-python",
   "name": "python",
   "nbconvert_exporter": "python",
   "pygments_lexer": "ipython3",
   "version": "3.9.7"
  }
 },
 "nbformat": 4,
 "nbformat_minor": 5
}
