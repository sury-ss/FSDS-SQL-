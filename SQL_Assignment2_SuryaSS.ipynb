{
 "cells": [
  {
   "cell_type": "markdown",
   "id": "d7093270",
   "metadata": {},
   "source": [
    "Q-1. Write an SQL query to print the first three characters of  FIRST_NAME from Worker table."
   ]
  },
  {
   "cell_type": "markdown",
   "id": "5b803b41",
   "metadata": {},
   "source": [
    "SELECT LEFT(FIRST_NAME,3)\n",
    "FROM WORKER"
   ]
  },
  {
   "cell_type": "markdown",
   "id": "79f35416",
   "metadata": {},
   "source": [
    " Q-2. Write an SQL query to find the position of the alphabet (‘a’) in the first name column ‘Amitabh’ from Worker table."
   ]
  },
  {
   "cell_type": "markdown",
   "id": "affa2936",
   "metadata": {},
   "source": [
    "SELECT CHARINDEX ('A', 'AMITABH') AS POSITION"
   ]
  },
  {
   "cell_type": "markdown",
   "id": "131e386c",
   "metadata": {},
   "source": [
    "Q-3. Write an SQL query to print the name of employees having the highest salary in each department."
   ]
  },
  {
   "cell_type": "markdown",
   "id": "d5fe6df2",
   "metadata": {},
   "source": [
    "SELECT FIRST_NAME FROM\n",
    "(SELECT FIRST_NAME, RANK () OVER (PARTITION BY DEPARTMENT ORDER BY SALARY DESC)R \n",
    "FROM WORKER)S\n",
    "WHERE R=1"
   ]
  }
 ],
 "metadata": {
  "kernelspec": {
   "display_name": "Python 3 (ipykernel)",
   "language": "python",
   "name": "python3"
  },
  "language_info": {
   "codemirror_mode": {
    "name": "ipython",
    "version": 3
   },
   "file_extension": ".py",
   "mimetype": "text/x-python",
   "name": "python",
   "nbconvert_exporter": "python",
   "pygments_lexer": "ipython3",
   "version": "3.9.7"
  }
 },
 "nbformat": 4,
 "nbformat_minor": 5
}
