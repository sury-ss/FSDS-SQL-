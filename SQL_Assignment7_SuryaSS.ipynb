{
 "cells": [
  {
   "cell_type": "markdown",
   "id": "5afc0313",
   "metadata": {},
   "source": [
    "Q-13. Write an SQL query to show only odd rows from a table."
   ]
  },
  {
   "cell_type": "markdown",
   "id": "653278c5",
   "metadata": {},
   "source": [
    "SELECT * FROM\n",
    "(SELECT *, ROW_NUMBER () OVER (ORDER BY ID) R FROM WORKER)\n",
    "WHERE R%2=1"
   ]
  },
  {
   "cell_type": "markdown",
   "id": "8aaec2d1",
   "metadata": {},
   "source": [
    "Q-14. Write an SQL query to clone a new table from another table."
   ]
  },
  {
   "cell_type": "markdown",
   "id": "253f5339",
   "metadata": {},
   "source": [
    "CREATE TABLE WORKER_CLONE AS\n",
    "(SELECT * FROM WORKER)"
   ]
  }
 ],
 "metadata": {
  "kernelspec": {
   "display_name": "Python 3 (ipykernel)",
   "language": "python",
   "name": "python3"
  },
  "language_info": {
   "codemirror_mode": {
    "name": "ipython",
    "version": 3
   },
   "file_extension": ".py",
   "mimetype": "text/x-python",
   "name": "python",
   "nbconvert_exporter": "python",
   "pygments_lexer": "ipython3",
   "version": "3.9.7"
  }
 },
 "nbformat": 4,
 "nbformat_minor": 5
}
