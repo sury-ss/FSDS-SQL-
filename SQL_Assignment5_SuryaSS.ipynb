{
 "cells": [
  {
   "cell_type": "markdown",
   "id": "483c9fef",
   "metadata": {},
   "source": [
    "Q-1. Write an SQL query to print details of workers excluding first names, “Vipul” and “Satish” from Worker table."
   ]
  },
  {
   "cell_type": "markdown",
   "id": "2273b2dc",
   "metadata": {},
   "source": [
    "SELECT * FROM WORKER\n",
    "WHERE FIRST_NAME NOT IN (‘Vipul’, ’Sathish’)"
   ]
  },
  {
   "cell_type": "markdown",
   "id": "48920d82",
   "metadata": {},
   "source": [
    "Q-2. Write an SQL query to print details of the Workers whose FIRST_NAME ends with ‘h’ and contains six alphabets. "
   ]
  },
  {
   "cell_type": "markdown",
   "id": "759720fa",
   "metadata": {},
   "source": [
    "SELECT * FROM WORKER\n",
    "WHERE FIRSTNAME LIKE ‘_____h’"
   ]
  },
  {
   "cell_type": "markdown",
   "id": "86645e33",
   "metadata": {},
   "source": [
    "Q-3. Write a query to validate Email of Employee. "
   ]
  },
  {
   "cell_type": "markdown",
   "id": "f75ec64f",
   "metadata": {},
   "source": [
    "SELECT EMAIL,\n",
    "CASE WHEN EMAIL LIKE ‘%@%.%’ THEN ‘VALID’ ELSE ‘INVALID’ END AS CHECK\n",
    "FROM WORKER"
   ]
  }
 ],
 "metadata": {
  "kernelspec": {
   "display_name": "Python 3 (ipykernel)",
   "language": "python",
   "name": "python3"
  },
  "language_info": {
   "codemirror_mode": {
    "name": "ipython",
    "version": 3
   },
   "file_extension": ".py",
   "mimetype": "text/x-python",
   "name": "python",
   "nbconvert_exporter": "python",
   "pygments_lexer": "ipython3",
   "version": "3.9.7"
  }
 },
 "nbformat": 4,
 "nbformat_minor": 5
}
