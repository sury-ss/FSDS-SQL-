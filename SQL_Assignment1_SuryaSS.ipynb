{
 "cells": [
  {
   "cell_type": "markdown",
   "id": "4e26be62",
   "metadata": {},
   "source": [
    "Q-1. Write an SQL query to fetch “FIRST_NAME” from Worker table using the alias name as <WORKER_NAME>."
   ]
  },
  {
   "cell_type": "markdown",
   "id": "0f832628",
   "metadata": {},
   "source": [
    "SELECT FIRST_NAME AS WORKER_NAME \n",
    "FROM WORKER"
   ]
  },
  {
   "cell_type": "markdown",
   "id": "7c765ce3",
   "metadata": {},
   "source": [
    "Q-2. Write an SQL query to fetch unique values of DEPARTMENT from Worker table."
   ]
  },
  {
   "cell_type": "markdown",
   "id": "8f5184ff",
   "metadata": {},
   "source": [
    "SELECT DISTINCT DEPARTMENT \n",
    "FROM WORKER"
   ]
  },
  {
   "cell_type": "markdown",
   "id": "1f6b5691",
   "metadata": {},
   "source": [
    "Q-3. Write an SQL query to show the last 5 record from a table."
   ]
  },
  {
   "cell_type": "markdown",
   "id": "b610b4b7",
   "metadata": {},
   "source": [
    "SELECT * FROM \n",
    "(SELECT * FROM TABLE ORDER BY ID DESC \n",
    "LIMIT 5)\n",
    "ORDER BY ID"
   ]
  }
 ],
 "metadata": {
  "kernelspec": {
   "display_name": "Python 3 (ipykernel)",
   "language": "python",
   "name": "python3"
  },
  "language_info": {
   "codemirror_mode": {
    "name": "ipython",
    "version": 3
   },
   "file_extension": ".py",
   "mimetype": "text/x-python",
   "name": "python",
   "nbconvert_exporter": "python",
   "pygments_lexer": "ipython3",
   "version": "3.9.7"
  }
 },
 "nbformat": 4,
 "nbformat_minor": 5
}
