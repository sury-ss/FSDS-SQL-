{
 "cells": [
  {
   "cell_type": "markdown",
   "id": "774d07d1",
   "metadata": {},
   "source": [
    "Q-19. Write an SQL query to determine the 5th highest salary without using TOP or limit method."
   ]
  },
  {
   "cell_type": "markdown",
   "id": "10a6c915",
   "metadata": {},
   "source": [
    "SELECT SALARY FROM\n",
    "(SELECT SALARY, RANK () OVER (ORDER BY SALARY DESC) Rank FROM WORKER) R\n",
    "WHERE Rank=5"
   ]
  },
  {
   "cell_type": "markdown",
   "id": "2ab8e38a",
   "metadata": {},
   "source": [
    "Q-20. Write an SQL query to fetch the list of employees with the same salary."
   ]
  },
  {
   "cell_type": "markdown",
   "id": "63aa7444",
   "metadata": {},
   "source": [
    "SELECT ID, NAME, SALARY FROM\n",
    "(SELECT ID, NAME, SALARY, COUNT (*) OVER (PARTITION BY SALRY) AS SALARYCNT\n",
    "FROM WORKER) S1\n",
    "WHERE SALARYCNT>1"
   ]
  }
 ],
 "metadata": {
  "kernelspec": {
   "display_name": "Python 3 (ipykernel)",
   "language": "python",
   "name": "python3"
  },
  "language_info": {
   "codemirror_mode": {
    "name": "ipython",
    "version": 3
   },
   "file_extension": ".py",
   "mimetype": "text/x-python",
   "name": "python",
   "nbconvert_exporter": "python",
   "pygments_lexer": "ipython3",
   "version": "3.9.7"
  }
 },
 "nbformat": 4,
 "nbformat_minor": 5
}
