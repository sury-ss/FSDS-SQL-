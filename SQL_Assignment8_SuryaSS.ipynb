{
 "cells": [
  {
   "cell_type": "markdown",
   "id": "212fb951",
   "metadata": {},
   "source": [
    "Q-15. Write an SQL query to fetch intersecting records of two tables."
   ]
  },
  {
   "cell_type": "markdown",
   "id": "f66b9d43",
   "metadata": {},
   "source": [
    "SELECT * FROM TABLE A\n",
    "INTERSECT\n",
    "SELECT * FROM TABLE B"
   ]
  },
  {
   "cell_type": "markdown",
   "id": "c689e3c8",
   "metadata": {},
   "source": [
    "Q-16. Write an SQL query to show records from one table that another table does not have."
   ]
  },
  {
   "cell_type": "markdown",
   "id": "0c81082e",
   "metadata": {},
   "source": [
    "SELECT* FROM TABLE A\n",
    "WHERE A.ID NOT IN\n",
    "(SELECT DISTINCT ID FROM TABLE B)"
   ]
  }
 ],
 "metadata": {
  "kernelspec": {
   "display_name": "Python 3 (ipykernel)",
   "language": "python",
   "name": "python3"
  },
  "language_info": {
   "codemirror_mode": {
    "name": "ipython",
    "version": 3
   },
   "file_extension": ".py",
   "mimetype": "text/x-python",
   "name": "python",
   "nbconvert_exporter": "python",
   "pygments_lexer": "ipython3",
   "version": "3.9.7"
  }
 },
 "nbformat": 4,
 "nbformat_minor": 5
}
