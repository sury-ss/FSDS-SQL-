{
 "cells": [
  {
   "cell_type": "markdown",
   "id": "a851ceb6",
   "metadata": {},
   "source": [
    "Q-1. Write an SQL query to print details of the Workers who have joined in Feb’2014. "
   ]
  },
  {
   "cell_type": "markdown",
   "id": "4acf13bc",
   "metadata": {},
   "source": [
    "SELECT * FROM WORKER\n",
    "WHERE YEAR(DOJ)=2014 AND MONTH(DOJ)=2"
   ]
  },
  {
   "cell_type": "markdown",
   "id": "5a73bd2f",
   "metadata": {},
   "source": [
    "Q-2. Write an SQL query to fetch duplicate records having matching data in some fields of a table. "
   ]
  },
  {
   "cell_type": "markdown",
   "id": "46b7cd26",
   "metadata": {},
   "source": [
    "SELECT ID, NAME, COUNT (*)\n",
    "FROM WORKER\n",
    "GROUP BY 1,2\n",
    "HAVING COUNT (*)>1"
   ]
  },
  {
   "cell_type": "markdown",
   "id": "2a378d0d",
   "metadata": {},
   "source": [
    "Q-3. How to remove duplicate rows from Employees table."
   ]
  },
  {
   "cell_type": "markdown",
   "id": "0dde3ccc",
   "metadata": {},
   "source": [
    "SELECT * FROM\n",
    "(SELECT ID, NAME, EMAIL,\n",
    "ROW_NUMBER () OVER (PARTITION BY ID, NAME, EMAIL ORDER BY ID, NAME, EMAIL) Row\n",
    "FROM WORKER) R\n",
    "WHERE Row=1"
   ]
  }
 ],
 "metadata": {
  "kernelspec": {
   "display_name": "Python 3 (ipykernel)",
   "language": "python",
   "name": "python3"
  },
  "language_info": {
   "codemirror_mode": {
    "name": "ipython",
    "version": 3
   },
   "file_extension": ".py",
   "mimetype": "text/x-python",
   "name": "python",
   "nbconvert_exporter": "python",
   "pygments_lexer": "ipython3",
   "version": "3.9.7"
  }
 },
 "nbformat": 4,
 "nbformat_minor": 5
}
