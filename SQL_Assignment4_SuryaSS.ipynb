{
 "cells": [
  {
   "cell_type": "markdown",
   "id": "5b7e3139",
   "metadata": {},
   "source": [
    "Q-1. Write an SQL query to print the FIRST_NAME from Worker table after replacing ‘a’ with ‘A’."
   ]
  },
  {
   "cell_type": "markdown",
   "id": "34831306",
   "metadata": {},
   "source": [
    "SELECT REPLACE (FIRST_NAME, ‘a’, ‘A’) FROM WORKER"
   ]
  },
  {
   "cell_type": "markdown",
   "id": "0a57021e",
   "metadata": {},
   "source": [
    "Q-2. Write an SQL query to print all Worker details from the Worker table order by FIRST_NAME Ascending and DEPARTMENT Descending."
   ]
  },
  {
   "cell_type": "markdown",
   "id": "1ca5534f",
   "metadata": {},
   "source": [
    "SELECT * FROM WORKER\n",
    "ORDER BY FIRST_NAME ASC, DEPARTMENT DESC"
   ]
  },
  {
   "cell_type": "markdown",
   "id": "f210c9af",
   "metadata": {},
   "source": [
    "Q-3. Write an SQL query to fetch the names of workers who earn the highest salary."
   ]
  },
  {
   "cell_type": "markdown",
   "id": "e3bd19ff",
   "metadata": {},
   "source": [
    "SELECT FIRST_NAME FROM WORKER\n",
    "WHERE SALARY = (SELECT MAX(SALARY) FROM WORKER)"
   ]
  }
 ],
 "metadata": {
  "kernelspec": {
   "display_name": "Python 3 (ipykernel)",
   "language": "python",
   "name": "python3"
  },
  "language_info": {
   "codemirror_mode": {
    "name": "ipython",
    "version": 3
   },
   "file_extension": ".py",
   "mimetype": "text/x-python",
   "name": "python",
   "nbconvert_exporter": "python",
   "pygments_lexer": "ipython3",
   "version": "3.9.7"
  }
 },
 "nbformat": 4,
 "nbformat_minor": 5
}
