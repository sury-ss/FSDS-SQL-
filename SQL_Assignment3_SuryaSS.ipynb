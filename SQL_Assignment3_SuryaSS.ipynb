{
 "cells": [
  {
   "cell_type": "markdown",
   "id": "e1a9644f",
   "metadata": {},
   "source": [
    "Q-1. Write an SQL query to print the FIRST_NAME from Worker table after removing white spaces from the right side."
   ]
  },
  {
   "cell_type": "markdown",
   "id": "1e2e1ddc",
   "metadata": {},
   "source": [
    "SELECT RTRIM(FIRST_NAME)\n",
    "FROM WORKER"
   ]
  },
  {
   "cell_type": "markdown",
   "id": "07ee937d",
   "metadata": {},
   "source": [
    "Q-2. Write an SQL query that fetches the unique values of DEPARTMENT from Worker table and prints its length."
   ]
  },
  {
   "cell_type": "markdown",
   "id": "4165fb23",
   "metadata": {},
   "source": [
    "SELECT DEPARTMENT, LEN(DEPARTMENT) FROM\n",
    "(SELECT DISTINCT DEPARTMENT FROM WORKER) D"
   ]
  },
  {
   "cell_type": "markdown",
   "id": "8cf25fb5",
   "metadata": {},
   "source": [
    "Q-3. Write an SQL query to fetch nth max salaries from a table."
   ]
  },
  {
   "cell_type": "markdown",
   "id": "bdb84cfe",
   "metadata": {},
   "source": [
    "SELECT SALARY FROM\n",
    "(SELECT SALARY, RANK () OVER (ORDER BY SALARY DESC) Rank FROM WORKER) R\n",
    "WHERE Rank=n"
   ]
  }
 ],
 "metadata": {
  "kernelspec": {
   "display_name": "Python 3 (ipykernel)",
   "language": "python",
   "name": "python3"
  },
  "language_info": {
   "codemirror_mode": {
    "name": "ipython",
    "version": 3
   },
   "file_extension": ".py",
   "mimetype": "text/x-python",
   "name": "python",
   "nbconvert_exporter": "python",
   "pygments_lexer": "ipython3",
   "version": "3.9.7"
  }
 },
 "nbformat": 4,
 "nbformat_minor": 5
}
